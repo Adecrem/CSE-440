{
  "cells": [
    {
      "metadata": {
        "state": "normal"
      },
      "cell_type": "markdown",
      "source": "# Introduction\n\n\nIn this homework you will implement a simple binary perceptron and train it to perform simple classification. This task involves classifying tumors as malignant or benign (0 and 1 respectively) according to 30 different measurements. (While unnecessary for completing the project, you can dive into what each feature means here)."
    },
    {
      "metadata": {
        "state": "normal",
        "trusted": true
      },
      "cell_type": "code",
      "source": "",
      "execution_count": null,
      "outputs": []
    },
    {
      "metadata": {
        "state": "normal"
      },
      "cell_type": "markdown",
      "source": "# Grading\n\n\n1. As long as your perceptron classifier (and the other classifiers you will use) achieves an at least 70% accuracy and runs in less than 3 minutes you will get full credit!\n2. No monkey business! Do not use sklearn or any off the shelf perceptron classifiers. Also, sending your code to someone else / asking for someone else for his code will get you an academic suspension.\n3. We have a solution with less than 12 lines of code that gets over 94% accuracy. Just to give you ad idea that this is not a complicated/long coding assignment. Just make sure to document your code.\n"
    },
    {
      "metadata": {
        "state": "normal",
        "trusted": true
      },
      "cell_type": "code",
      "source": "",
      "execution_count": null,
      "outputs": []
    },
    {
      "metadata": {
        "state": "normal"
      },
      "cell_type": "markdown",
      "source": "# Procedure\n\nThere are two phases for this project:\n1. getting and loading the dataset\n2. implementing, training and testing the perceptron.\n"
    },
    {
      "metadata": {
        "state": "normal",
        "trusted": true
      },
      "cell_type": "code",
      "source": "",
      "execution_count": null,
      "outputs": []
    },
    {
      "metadata": {
        "state": "normal"
      },
      "cell_type": "markdown",
      "source": "# Template is not enfoced\nYou do not have to follow this template. As far as you can provide the correct code with a reasonable accuracy, you will be fine."
    },
    {
      "metadata": {
        "state": "normal",
        "trusted": true
      },
      "cell_type": "code",
      "source": "",
      "execution_count": null,
      "outputs": []
    },
    {
      "metadata": {
        "state": "normal"
      },
      "cell_type": "markdown",
      "source": "# Phase One: Packages, Data, and Setup\n\n\nThe package sklearn is a popular machine learning library for python. In addition to implementations of many algorithms and tools for  statistical analysis this package also contains many small datasets of anything. Please note you will not use that library for the perceptron algorithm --that is your task to implement. But you can use it for loading data, etc. \n"
    },
    {
      "metadata": {
        "state": "normal",
        "trusted": true
      },
      "cell_type": "code",
      "source": "import numpy as np\nimport sklearn\nfrom sklearn import datasets\nfrom sklearn.metrics import confusion_matrix\nimport matplotlib.pyplot as plt\nimport matplotlib.ticker as ticker\nimport random",
      "execution_count": 32,
      "outputs": []
    },
    {
      "metadata": {
        "state": "normal",
        "trusted": true
      },
      "cell_type": "code",
      "source": "",
      "execution_count": null,
      "outputs": []
    },
    {
      "metadata": {
        "state": "normal",
        "trusted": true
      },
      "cell_type": "code",
      "source": "",
      "execution_count": null,
      "outputs": []
    },
    {
      "metadata": {
        "state": "normal"
      },
      "cell_type": "markdown",
      "source": "Next we will import the data and split it to training and testing sets. The following lines load the UCI ML Breast Cancer Wisconsin (Diagnostic) Data Set. which contains 569 cases of tumors (each represented by 30 measurements). We split this data to 500 training cases and the rest for testing."
    },
    {
      "metadata": {
        "state": "normal",
        "trusted": true
      },
      "cell_type": "code",
      "source": "# load the data set\nimg,label=sklearn.datasets.load_breast_cancer(return_X_y=True)\n# split the data set\nTRAIN_SIZE = 511\nlabel = 2*label-1\ntrain_img,test_img = img[:TRAIN_SIZE], img[TRAIN_SIZE:]\ntrain_label,test_label = label[:TRAIN_SIZE], label[TRAIN_SIZE:]",
      "execution_count": 33,
      "outputs": []
    },
    {
      "metadata": {
        "state": "normal",
        "trusted": true
      },
      "cell_type": "code",
      "source": "",
      "execution_count": null,
      "outputs": []
    },
    {
      "metadata": {
        "state": "normal"
      },
      "cell_type": "markdown",
      "source": "# Phase Two: Perceptron Model"
    },
    {
      "metadata": {
        "state": "normal",
        "trusted": true
      },
      "cell_type": "code",
      "source": "# Perceptron Class\nclass Perceptron(object):\n    # Initialize the perceptron\n    def __init__(self, dim_input = 30, dim_out = 2, learning_rate = 1):\n        # model parameters \n        self.w = np.zeros(dim_input)\n        self.bias = 0.0\n        \n        # learning rate\n        self.learning_rate = learning_rate\n    \n    \n    #https://machinelearningmastery.com/perceptron-algorithm-for-classification-in-python/\n    #https://cmci.colorado.edu/classes/INFO-4604/files/slides-3_perceptron.pdf\n    #https://numpy.org/doc/stable/reference/generated/numpy.dot.html\n    #https://www.maxbartolo.com/ml-index-item/dot-scalar-product/#:~:text=In%20Python%2C%20one%20way%20to,comprehension%20performing%20element%2Dwise%20multiplication.&text=Alternatively%2C%20we%20can%20use%20the,dot()%20function.&text=Keeping%20to%20the%20convention%20of,Ty%20x%20T%20y%20.\n    #https://en.wikipedia.org/wiki/Perceptron\n    #https://medium.com/@thomascountz/19-line-line-by-line-python-perceptron-b6f113b161f3\n    #used these for the predict method\n    \n    def predict(self,input_array):\n        # See the \"Perceptron learning rule\" slides: w * x\n        \n        #\n        # Complete! Complete! Complete!\n        # Complete! Complete! Complete!\n        #\n        \n        \n        activation = np.dot(self.w, input_array) + self.bias\n        if activation > 0:\n            return 1\n        else:\n            return -1\n        \n        \n        \n                    \n    #https://machinelearningmastery.com/perceptron-algorithm-for-classification-in-python/\n    #http://www.phontron.com/slides/nlp-programming-en-05-perceptron.pdf\n    #https://medium.com/@thomascountz/19-line-line-by-line-python-perceptron-b6f113b161f3\n    \n    #used this for weight and bias\n    def train(self, training_inputs, labels):\n        #\n        # Complete! Complete! Complete!\n        # Complete! Complete! Complete!\n        #\n        for j in labels: #going through labels\n            for i in training_inputs: #going through training inputs\n                predict = self.predict(i) #for predict\n                if predict == labels[j]: #if it matches, continue\n                    return True\n                else: #if it doesnt, progress\n                    self.w += self.learning_rate * (labels[j] - predict) * i\n                    self.bias += self.learning_rate * (labels[j] - predict)\n                    return False\n    \n    def test(self, testing_inputs, labels):\n        # number of correct predictions\n        count_correct = 0\n        # a list of the predicted labels the same order as the input \n        pred_list = []\n        for test_array, label in zip(testing_inputs,labels):\n            prediction = self.predict(test_array)\n            if prediction == label:\n                count_correct += 1\n            pred_list.append(prediction)\n        accuracy = float(count_correct)/len(test_label)\n        print('Accuracy is '+str(accuracy))\n        return np.asarray(pred_list)",
      "execution_count": 34,
      "outputs": []
    },
    {
      "metadata": {
        "state": "normal",
        "trusted": true
      },
      "cell_type": "code",
      "source": "",
      "execution_count": null,
      "outputs": []
    },
    {
      "metadata": {
        "state": "normal",
        "trusted": true
      },
      "cell_type": "code",
      "source": "# Number of epochs (iterations over the training set)\nNUM_EPOCH = 7",
      "execution_count": 35,
      "outputs": []
    },
    {
      "metadata": {
        "state": "normal",
        "trusted": true
      },
      "cell_type": "code",
      "source": "",
      "execution_count": null,
      "outputs": []
    },
    {
      "metadata": {
        "state": "normal",
        "trusted": true
      },
      "cell_type": "code",
      "source": "",
      "execution_count": null,
      "outputs": []
    },
    {
      "metadata": {
        "scrolled": true,
        "state": "normal",
        "trusted": true
      },
      "cell_type": "code",
      "source": "perceptron = Perceptron(learning_rate=0.5)\nfor ii in range(NUM_EPOCH):\n    perceptron.train(train_img, train_label)\nprint(str(NUM_EPOCH)+' epochs')\npred_array = perceptron.test(test_img, test_label)",
      "execution_count": 36,
      "outputs": [
        {
          "output_type": "stream",
          "text": "7 epochs\nAccuracy is 0.7586206896551724\n",
          "name": "stdout"
        }
      ]
    },
    {
      "metadata": {
        "state": "normal",
        "trusted": true
      },
      "cell_type": "code",
      "source": "",
      "execution_count": null,
      "outputs": []
    },
    {
      "metadata": {
        "state": "normal",
        "trusted": true
      },
      "cell_type": "code",
      "source": "",
      "execution_count": null,
      "outputs": []
    },
    {
      "metadata": {
        "state": "normal",
        "trusted": true
      },
      "cell_type": "code",
      "source": "",
      "execution_count": null,
      "outputs": []
    }
  ],
  "metadata": {
    "kernelspec": {
      "name": "python3",
      "display_name": "Python 3",
      "language": "python"
    },
    "language_info": {
      "name": "python",
      "version": "3.7.3",
      "mimetype": "text/x-python",
      "codemirror_mode": {
        "name": "ipython",
        "version": 3
      },
      "pygments_lexer": "ipython3",
      "nbconvert_exporter": "python",
      "file_extension": ".py"
    },
    "mimir": {
      "project_id": "3fb86145-c007-4378-b68f-ae3b9e29806d",
      "last_submission_id": "",
      "data": {}
    },
    "varInspector": {
      "window_display": false,
      "cols": {
        "lenName": 16,
        "lenType": 16,
        "lenVar": 40
      },
      "kernels_config": {
        "python": {
          "library": "var_list.py",
          "delete_cmd_prefix": "del ",
          "delete_cmd_postfix": "",
          "varRefreshCmd": "print(var_dic_list())"
        },
        "r": {
          "library": "var_list.r",
          "delete_cmd_prefix": "rm(",
          "delete_cmd_postfix": ") ",
          "varRefreshCmd": "cat(var_dic_list()) "
        }
      },
      "types_to_exclude": [
        "module",
        "function",
        "builtin_function_or_method",
        "instance",
        "_Feature"
      ]
    }
  },
  "nbformat": 4,
  "nbformat_minor": 2
}