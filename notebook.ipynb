{
  "cells": [
    {
      "metadata": {
        "state": "normal"
      },
      "cell_type": "markdown",
      "source": "# Designing a Game Playing AI Using MinMax with α - β Pruning\n## Introduction\n\nOur objective is to implement naive Min-Max and Min-Max with alpha / beta pruning to find a winning strategy for either player. Moreover, both players will try to win as fast as possible."
    },
    {
      "metadata": {
        "state": "normal",
        "trusted": false
      },
      "cell_type": "code",
      "source": "",
      "execution_count": null,
      "outputs": []
    },
    {
      "metadata": {
        "state": "normal",
        "trusted": false
      },
      "cell_type": "code",
      "source": "import numpy as np\nimport itertools",
      "execution_count": 1,
      "outputs": []
    },
    {
      "metadata": {
        "state": "normal",
        "trusted": false
      },
      "cell_type": "code",
      "source": "",
      "execution_count": null,
      "outputs": []
    },
    {
      "metadata": {
        "state": "normal"
      },
      "cell_type": "markdown",
      "source": "## Tic Tac Toe\nAlso known as \"Noughts and Crosses\". The roots of this game can be traced back to ancient Egyp, where such game boards have been found on roofing tiles dating from around 1300 BCE. It was also one of the first computer games; In 1952, ritish computer scientist Alexander S. Douglas developed OXO (or Noughts and Crosses) for the EDSAC computer at the University of Cambridge. His implememntation used MinMax and was able to play a perfect game against a human oponent.\n\nThis class implememnts a TicTacToa game. The followng are the methods:\n* make_copy   : returns a copy of the game object.\n* move(ii,jj) : the player who's turn it is will check cell ii,jj\n* children    : returns a list of all game objects that result from 1 move\n* result      : returns the result, always between \\[-1,1\\]. A negative result indicates a player 2 win, 0 indicates a tie.\n* final_move  : return true if the current game is at a final state."
    },
    {
      "metadata": {
        "state": "normal",
        "trusted": false
      },
      "cell_type": "code",
      "source": "",
      "execution_count": null,
      "outputs": []
    },
    {
      "metadata": {
        "state": "normal",
        "trusted": true
      },
      "cell_type": "code",
      "source": "class game_TicTacToe:\n    def __init__(self):\n        self.ROWS = 3\n        self.COLS = 3\n        self.board = np.zeros((self.ROWS,self.COLS))\n        self.player = 1;\n        self.numMoves = 1;\n        \n    def make_copy(self):\n        newGame = game_TicTacToe()\n        newGame.board = self.board.copy()\n        newGame.player = self.player\n        return newGame\n    \n    def move(self,ii,jj):\n        if self.board[ii,jj] == 0:\n            self.board[ii,jj] = self.player\n        self.player *= -1\n        self.numMoves += 1;\n        return        \n        \n    def children(self):\n        children = []\n        for ii, jj in np.argwhere(self.board == 0):\n            newGame = self.make_copy()\n            newGame.move(ii,jj)\n            children.append(newGame)\n        return children\n    \n    def result(self):\n        PL1 = 3.0\n        PL2 = -3.0\n        if max(np.sum(self.board, axis=0)) == PL1 or max(np.sum(self.board, axis=1)) == PL1 or \\\n            np.trace(self.board) == PL1 or np.trace(np.fliplr(self.board)) == PL1:\n            return 1/self.numMoves\n        if min(np.sum(self.board, axis=0)) == PL2 or min(np.sum(self.board, axis=1)) == PL2 or \\\n            np.trace(self.board) == PL2 or np.trace(np.fliplr(self.board)) == PL2:\n            return -1/self.numMoves\n        return 0\n    \n    def final_move(self):\n        return self.ROWS * self.COLS == len(np.nonzero(self.board)[0]) or (self.result() != 0)",
      "execution_count": 5,
      "outputs": []
    },
    {
      "metadata": {
        "state": "normal",
        "trusted": false
      },
      "cell_type": "code",
      "source": "",
      "execution_count": null,
      "outputs": []
    },
    {
      "metadata": {
        "state": "normal",
        "trusted": false
      },
      "cell_type": "code",
      "source": "",
      "execution_count": null,
      "outputs": []
    },
    {
      "metadata": {
        "state": "normal",
        "trusted": false
      },
      "cell_type": "code",
      "source": "",
      "execution_count": null,
      "outputs": []
    },
    {
      "metadata": {
        "state": "normal",
        "trusted": false
      },
      "cell_type": "code",
      "source": "",
      "execution_count": null,
      "outputs": []
    },
    {
      "metadata": {
        "state": "normal",
        "trusted": false
      },
      "cell_type": "code",
      "source": "",
      "execution_count": null,
      "outputs": []
    },
    {
      "metadata": {
        "state": "normal"
      },
      "cell_type": "markdown",
      "source": "# Show_game\n\nGiven a list of \"boards\" (every game class has a board field) this method will draw the game. For instance it might draw the following TicTacToa game:"
    },
    {
      "metadata": {
        "state": "normal",
        "trusted": true
      },
      "cell_type": "code",
      "source": "def show_game(plays, gameType='TicTacToe'):\n    \"\"\"\n    Default gameType is TicTacToe\n    \"\"\"\n    if np.sum(np.sum(np.abs(plays[0]))) != 0:\n        plays.reverse()\n    def ticks(player):\n        if player == 1:\n            return 'X'\n        if player == -1:\n            if gameType == 'TicTacToe':\n                return 'O'\n            return 'X'\n        return ' '\n    gameStr = ''\n    for play in plays:\n        playStr = []\n        ROWS,COLS =  np.shape(play)\n        for i in range(0,ROWS):\n            playStr.append('|'.join([' '+ticks(play[i,j])+' ' for j in range(0,COLS)]))\n        playStr = '\\n-----------\\n'.join(playStr)\n        gameStr += playStr\n        gameStr +='\\n\\n'\n    return gameStr",
      "execution_count": 6,
      "outputs": []
    },
    {
      "metadata": {
        "state": "normal",
        "trusted": false
      },
      "cell_type": "code",
      "source": "",
      "execution_count": null,
      "outputs": []
    },
    {
      "metadata": {
        "state": "normal",
        "trusted": false
      },
      "cell_type": "code",
      "source": "",
      "execution_count": null,
      "outputs": []
    },
    {
      "metadata": {
        "state": "normal",
        "trusted": false
      },
      "cell_type": "code",
      "source": "",
      "execution_count": null,
      "outputs": []
    },
    {
      "metadata": {
        "state": "normal",
        "trusted": false
      },
      "cell_type": "code",
      "source": "",
      "execution_count": null,
      "outputs": []
    },
    {
      "metadata": {
        "state": "normal",
        "trusted": false
      },
      "cell_type": "code",
      "source": "",
      "execution_count": null,
      "outputs": []
    },
    {
      "metadata": {
        "state": "normal"
      },
      "cell_type": "markdown",
      "source": "# Min Max\n\nCreate a class of MinMax that has an alphabeta method and an minmax method\n\nParams: game object, current alpha, current beta, and True if it's the max turn.\nReturns: a list of the boards of the best game alpha and beta could play, and the result of the game (same as the result of the game object that has the last board)"
    },
    {
      "metadata": {
        "state": "normal",
        "trusted": false
      },
      "cell_type": "code",
      "source": "",
      "execution_count": null,
      "outputs": []
    },
    {
      "metadata": {
        "state": "normal",
        "trusted": true
      },
      "cell_type": "code",
      "source": "# min max alpha beta\nclass minmax_alphabeta(object):\n    def __init__(self,game):\n        self.game = game\n        self.bestPlay = list()\n        # empty init\n        return\n\n    # get a strategy to win the game\n    def alpabeta(self, game=None, a=-np.inf, b=np.inf, maximizingPlayer=True):\n        global GLOBAL_NUM_CALLS\n        \"\"\"\n        implement your own code here\n        \"\"\"\n        if game.final_move() or (a >= b):\n            print(self.bestPlay)\n            return game.result()\n        else:\n            for x in game.children():\n                score = self.alpabeta(x,a,b,maximizingPlayer==False)\n                if maximizingPlayer:\n                    if (score < b):\n                        b = score\n                else:\n                    if (score > a):\n                        a = score\n                    if a>=b:\n                        return score\n            return score\n        \n        \n    \n    def minmax(self, game=None, maximizingPlayer=True):\n        global GLOBAL_NUM_CALLS\n        GLOBAL_NUM_CALLS += 1\n        \"\"\"\n        implement your own code here\n        \"\"\"\n        scores = []\n        for x in game.children():\n            scores.append(self.alpabeta(x,a,b,maximizingPlayer==False))\n        if maximizingPlayer:\n            nextboard = np.argmax(scores)\n        else:\n            nextboard = np.argmin(scores)\n        if game > nextboard:\n            nextboard = game\n        return(game.children()[bestmove],game.children[bestmove].result)",
      "execution_count": 7,
      "outputs": []
    },
    {
      "metadata": {
        "state": "normal",
        "trusted": false
      },
      "cell_type": "code",
      "source": "",
      "execution_count": null,
      "outputs": []
    },
    {
      "metadata": {
        "state": "normal",
        "trusted": false
      },
      "cell_type": "code",
      "source": "",
      "execution_count": null,
      "outputs": []
    },
    {
      "metadata": {
        "state": "normal"
      },
      "cell_type": "markdown",
      "source": "## Tic Tac Toe Strategy using minmax\nIs there a winning strategy for either player in TicTacToa?\nHow long can the the loosing player strech the game for?"
    },
    {
      "metadata": {
        "state": "normal",
        "trusted": false
      },
      "cell_type": "code",
      "source": "GLOBAL_NUM_CALLS = 0\nminmax = minmax_alphabeta(game_TicTacToe())\nbestPlay, res = minmax.minmax()\nprint(show_game(bestPlay)\nif res == 0:\n    print('A perfect game results in a tie')\nelse:\n    print('player '+str(int(-np.sign(res)*1/2 +1.5))+' wins in turn '+str(int(1/res)))\nprint('There were '+str(GLOBAL_NUM_CALLS)+' calls!')",
      "execution_count": 26,
      "outputs": []
    },
    {
      "metadata": {
        "state": "normal",
        "trusted": false
      },
      "cell_type": "code",
      "source": "",
      "execution_count": null,
      "outputs": []
    },
    {
      "metadata": {
        "state": "normal",
        "trusted": false
      },
      "cell_type": "code",
      "source": "",
      "execution_count": null,
      "outputs": []
    },
    {
      "metadata": {
        "state": "normal"
      },
      "cell_type": "markdown",
      "source": "## Tic Tac Toe Strategy using alphabta\nIs there a winning strategy for either player in TicTacToa?\nHow long can the the loosing player strech the game for?"
    },
    {
      "metadata": {
        "state": "normal",
        "trusted": true
      },
      "cell_type": "code",
      "source": "GLOBAL_NUM_CALLS = 0\nminmax = minmax_alphabeta(game_TicTacToe())\nbestPlay, res = minmax.alpabeta()\nprint(show_game(bestPlay))\nif res == 0:\n    print('A perfect game results in a tie')\nelse:\n    print('player '+str(int(-np.sign(res)*1/2 +1.5))+' wins in turn '+str(int(1/res)))\nprint('There were '+str(GLOBAL_NUM_CALLS)+' calls!')",
      "execution_count": 8,
      "outputs": [
        {
          "output_type": "error",
          "ename": "AttributeError",
          "evalue": "'NoneType' object has no attribute 'final_move'",
          "traceback": [
            "\u001b[0;31m---------------------------------------------------------------------------\u001b[0m",
            "\u001b[0;31mAttributeError\u001b[0m                            Traceback (most recent call last)",
            "\u001b[0;32m<ipython-input-8-ac60a6e69d4d>\u001b[0m in \u001b[0;36m<module>\u001b[0;34m\u001b[0m\n\u001b[1;32m      1\u001b[0m \u001b[0mGLOBAL_NUM_CALLS\u001b[0m \u001b[0;34m=\u001b[0m \u001b[0;36m0\u001b[0m\u001b[0;34m\u001b[0m\u001b[0;34m\u001b[0m\u001b[0m\n\u001b[1;32m      2\u001b[0m \u001b[0mminmax\u001b[0m \u001b[0;34m=\u001b[0m \u001b[0mminmax_alphabeta\u001b[0m\u001b[0;34m(\u001b[0m\u001b[0mgame_TicTacToe\u001b[0m\u001b[0;34m(\u001b[0m\u001b[0;34m)\u001b[0m\u001b[0;34m)\u001b[0m\u001b[0;34m\u001b[0m\u001b[0;34m\u001b[0m\u001b[0m\n\u001b[0;32m----> 3\u001b[0;31m \u001b[0mbestPlay\u001b[0m\u001b[0;34m,\u001b[0m \u001b[0mres\u001b[0m \u001b[0;34m=\u001b[0m \u001b[0mminmax\u001b[0m\u001b[0;34m.\u001b[0m\u001b[0malpabeta\u001b[0m\u001b[0;34m(\u001b[0m\u001b[0;34m)\u001b[0m\u001b[0;34m\u001b[0m\u001b[0;34m\u001b[0m\u001b[0m\n\u001b[0m\u001b[1;32m      4\u001b[0m \u001b[0mprint\u001b[0m\u001b[0;34m(\u001b[0m\u001b[0mshow_game\u001b[0m\u001b[0;34m(\u001b[0m\u001b[0mbestPlay\u001b[0m\u001b[0;34m)\u001b[0m\u001b[0;34m)\u001b[0m\u001b[0;34m\u001b[0m\u001b[0;34m\u001b[0m\u001b[0m\n\u001b[1;32m      5\u001b[0m \u001b[0;32mif\u001b[0m \u001b[0mres\u001b[0m \u001b[0;34m==\u001b[0m \u001b[0;36m0\u001b[0m\u001b[0;34m:\u001b[0m\u001b[0;34m\u001b[0m\u001b[0;34m\u001b[0m\u001b[0m\n",
            "\u001b[0;32m<ipython-input-7-fc9eac61c889>\u001b[0m in \u001b[0;36malpabeta\u001b[0;34m(self, game, a, b, maximizingPlayer)\u001b[0m\n\u001b[1;32m     13\u001b[0m         \u001b[0mimplement\u001b[0m \u001b[0myour\u001b[0m \u001b[0mown\u001b[0m \u001b[0mcode\u001b[0m \u001b[0mhere\u001b[0m\u001b[0;34m\u001b[0m\u001b[0;34m\u001b[0m\u001b[0m\n\u001b[1;32m     14\u001b[0m         \"\"\"\n\u001b[0;32m---> 15\u001b[0;31m         \u001b[0;32mif\u001b[0m \u001b[0mgame\u001b[0m\u001b[0;34m.\u001b[0m\u001b[0mfinal_move\u001b[0m\u001b[0;34m(\u001b[0m\u001b[0;34m)\u001b[0m \u001b[0;32mor\u001b[0m \u001b[0;34m(\u001b[0m\u001b[0ma\u001b[0m \u001b[0;34m>=\u001b[0m \u001b[0mb\u001b[0m\u001b[0;34m)\u001b[0m\u001b[0;34m:\u001b[0m\u001b[0;34m\u001b[0m\u001b[0;34m\u001b[0m\u001b[0m\n\u001b[0m\u001b[1;32m     16\u001b[0m             \u001b[0mprint\u001b[0m\u001b[0;34m(\u001b[0m\u001b[0mself\u001b[0m\u001b[0;34m.\u001b[0m\u001b[0mbestPlay\u001b[0m\u001b[0;34m)\u001b[0m\u001b[0;34m\u001b[0m\u001b[0;34m\u001b[0m\u001b[0m\n\u001b[1;32m     17\u001b[0m             \u001b[0;32mreturn\u001b[0m \u001b[0mgame\u001b[0m\u001b[0;34m.\u001b[0m\u001b[0mresult\u001b[0m\u001b[0;34m(\u001b[0m\u001b[0;34m)\u001b[0m\u001b[0;34m\u001b[0m\u001b[0;34m\u001b[0m\u001b[0m\n",
            "\u001b[0;31mAttributeError\u001b[0m: 'NoneType' object has no attribute 'final_move'"
          ]
        }
      ]
    },
    {
      "metadata": {
        "state": "normal",
        "trusted": false
      },
      "cell_type": "code",
      "source": "",
      "execution_count": null,
      "outputs": []
    },
    {
      "metadata": {
        "state": "normal",
        "trusted": false
      },
      "cell_type": "code",
      "source": "",
      "execution_count": null,
      "outputs": []
    },
    {
      "metadata": {
        "state": "normal",
        "trusted": false
      },
      "cell_type": "code",
      "source": "",
      "execution_count": null,
      "outputs": []
    },
    {
      "metadata": {
        "state": "normal",
        "trusted": false
      },
      "cell_type": "code",
      "source": "",
      "execution_count": null,
      "outputs": []
    },
    {
      "metadata": {
        "state": "normal",
        "trusted": false
      },
      "cell_type": "code",
      "source": "",
      "execution_count": null,
      "outputs": []
    },
    {
      "metadata": {
        "state": "normal",
        "trusted": false
      },
      "cell_type": "code",
      "source": "",
      "execution_count": null,
      "outputs": []
    },
    {
      "metadata": {
        "state": "normal",
        "trusted": false
      },
      "cell_type": "code",
      "source": "",
      "execution_count": null,
      "outputs": []
    },
    {
      "metadata": {
        "state": "normal",
        "trusted": false
      },
      "cell_type": "code",
      "source": "",
      "execution_count": null,
      "outputs": []
    },
    {
      "metadata": {
        "state": "normal",
        "trusted": false
      },
      "cell_type": "code",
      "source": "",
      "execution_count": null,
      "outputs": []
    },
    {
      "metadata": {
        "state": "normal",
        "trusted": false
      },
      "cell_type": "code",
      "source": "",
      "execution_count": null,
      "outputs": []
    },
    {
      "metadata": {
        "state": "normal",
        "trusted": false
      },
      "cell_type": "code",
      "source": "",
      "execution_count": null,
      "outputs": []
    },
    {
      "metadata": {
        "state": "normal",
        "trusted": false
      },
      "cell_type": "code",
      "source": "",
      "execution_count": null,
      "outputs": []
    },
    {
      "metadata": {
        "state": "normal",
        "trusted": false
      },
      "cell_type": "code",
      "source": "",
      "execution_count": null,
      "outputs": []
    },
    {
      "metadata": {
        "state": "normal",
        "trusted": false
      },
      "cell_type": "code",
      "source": "",
      "execution_count": null,
      "outputs": []
    },
    {
      "metadata": {
        "state": "normal",
        "trusted": false
      },
      "cell_type": "code",
      "source": "",
      "execution_count": null,
      "outputs": []
    },
    {
      "metadata": {
        "state": "normal",
        "trusted": false
      },
      "cell_type": "code",
      "source": "",
      "execution_count": null,
      "outputs": []
    }
  ],
  "metadata": {
    "kernelspec": {
      "name": "python3",
      "display_name": "Python 3",
      "language": "python"
    },
    "language_info": {
      "name": "python",
      "version": "3.7.3",
      "mimetype": "text/x-python",
      "codemirror_mode": {
        "name": "ipython",
        "version": 3
      },
      "pygments_lexer": "ipython3",
      "nbconvert_exporter": "python",
      "file_extension": ".py"
    },
    "mimir": {
      "project_id": "31491862-4a4d-4efe-b0d8-5f1e8ee8fb38",
      "last_submission_id": "",
      "data": {}
    },
    "varInspector": {
      "window_display": false,
      "cols": {
        "lenName": 16,
        "lenType": 16,
        "lenVar": 40
      },
      "kernels_config": {
        "python": {
          "library": "var_list.py",
          "delete_cmd_prefix": "del ",
          "delete_cmd_postfix": "",
          "varRefreshCmd": "print(var_dic_list())"
        },
        "r": {
          "library": "var_list.r",
          "delete_cmd_prefix": "rm(",
          "delete_cmd_postfix": ") ",
          "varRefreshCmd": "cat(var_dic_list()) "
        }
      },
      "types_to_exclude": [
        "module",
        "function",
        "builtin_function_or_method",
        "instance",
        "_Feature"
      ]
    }
  },
  "nbformat": 4,
  "nbformat_minor": 2
}